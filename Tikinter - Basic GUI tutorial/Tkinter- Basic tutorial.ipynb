{
 "cells": [
  {
   "cell_type": "markdown",
   "metadata": {},
   "source": [
    "## GUI with Python's Tkinter, by Robert Jomar Malate\n",
    "This notebook is based on Robert Jomar Malate's tutorial for Tkinter <br>\n",
    "https://www.youtube.com/watch?v=JrWHyqonGj8"
   ]
  },
  {
   "cell_type": "code",
   "execution_count": null,
   "metadata": {},
   "outputs": [],
   "source": [
    "import tkinter as  tk\n",
    "\n",
    "window=tk.Tk()\n",
    "\n",
    "window.mainloop()\n"
   ]
  },
  {
   "cell_type": "markdown",
   "metadata": {},
   "source": [
    "### Info 1:\n",
    ".Tk() - creates a frame<br>\n",
    ".title() - input a title for the app<br>\n",
    ".geometry() - defines the size of the frame"
   ]
  },
  {
   "cell_type": "code",
   "execution_count": 6,
   "metadata": {},
   "outputs": [],
   "source": [
    "import tkinter as tk\n",
    "\n",
    "window=tk.Tk()\n",
    "window.title(\"My App\")\n",
    "window.geometry(\"200x200\")\n",
    "\n",
    "window.mainloop()"
   ]
  },
  {
   "cell_type": "markdown",
   "metadata": {},
   "source": [
    "### Info 2:\n",
    ".Label(text=\"\".fonts=(font,size)) - add labels<br>\n",
    ".Button(arg1,arg2...) - create a button<br>\n",
    ".Entry(arg1, arg2...) - create an entry field<br>\n",
    ".Text(arg1, arg2...) - add text field"
   ]
  },
  {
   "cell_type": "code",
   "execution_count": 18,
   "metadata": {},
   "outputs": [],
   "source": [
    "import tkinter as tk\n",
    "\n",
    "window=tk.Tk()\n",
    "window.title(\"My App\")\n",
    "window.geometry(\"400x400\")\n",
    "\n",
    "#label\n",
    "title=tk.Label(text=\"Hello world. Welcome to my first app\")\n",
    "title.grid(column=0,row=0) #defaults to potsition (0,0)\n",
    "\n",
    "#button 1\n",
    "button1=tk.Button(text=\"click me\")\n",
    "button1.grid(column=0, row=1)\n",
    "\n",
    "#entry field\n",
    "entry_field1=tk.Entry()\n",
    "entry_field1.grid(column=0, row=2)\n",
    "\n",
    "#text field\n",
    "text_field1=tk.Text(master=window, height=10,width=30)\n",
    "text_field1.grid(column=0, row=3)\n",
    "\n",
    "window.mainloop()\n"
   ]
  },
  {
   "cell_type": "markdown",
   "metadata": {},
   "source": [
    "### Info 3:\n",
    "Extra arguments for label, button, entry field and text field as below: <br>\n",
    "1. font for font type and size, ie: font=(\"Times New Roman\", 20)\n",
    "2. bg for background, ie: bg=red \n",
    "\n",
    "More info at http://effbot.org/tkinterbook/\n",
    "\n"
   ]
  },
  {
   "cell_type": "markdown",
   "metadata": {},
   "source": [
    "### Sample App 1\n",
    "We will create an app that accepts our name in an entry field and displays a greeting in a text field below."
   ]
  },
  {
   "cell_type": "code",
   "execution_count": 54,
   "metadata": {},
   "outputs": [],
   "source": [
    "import random\n",
    "import tkinter as tk\n",
    "\n",
    "window=tk.Tk()\n",
    "window.title(\"Greetings\")\n",
    "window.geometry(\"400x400\")\n",
    "\n",
    "#----Funtions-----\n",
    "def phrase_generator():\n",
    "    phrases=[\"Hello \",\"What's up \", \"Aloha \", \"Hafa Adai \"]\n",
    "    name= str(entry_field.get())\n",
    "    \n",
    "    return phrases[random.randint(0,3)] + name + \"!!!!!!!!!!!!\"\n",
    "\n",
    "\n",
    "def phrase_display():\n",
    "    greeting = phrase_generator()\n",
    "    \n",
    "    # This creaets the text field\n",
    "    greeting_display=tk.Text(master=window, height=10, width=30)\n",
    "    greeting_display.grid(column=0,row=3)\n",
    "    \n",
    "    greeting_display.insert(tk.END, greeting)\n",
    "\n",
    "\n",
    "label1=tk.Label(text=\"Welcome to my app\")\n",
    "label1.grid(column=0,row=0)\n",
    "\n",
    "label2=tk.Label(text=\"What is your name?\")\n",
    "label2.grid(column=0,row=1)\n",
    "\n",
    "entry_field=tk.Entry()\n",
    "entry_field.grid(column=1,row=1)\n",
    "\n",
    "button1=tk.Button(text=\"Submit\" ,command=phrase_display)\n",
    "button1.grid(column=0,row=2)\n",
    "\n",
    "# text_field=tk.Text(master=window, height=15, width=30)\n",
    "# text_field.grid(column=0,row=4)\n",
    "\n",
    "\n",
    "window.mainloop()"
   ]
  },
  {
   "cell_type": "code",
   "execution_count": null,
   "metadata": {},
   "outputs": [],
   "source": []
  }
 ],
 "metadata": {
  "kernelspec": {
   "display_name": "Python 3",
   "language": "python",
   "name": "python3"
  },
  "language_info": {
   "codemirror_mode": {
    "name": "ipython",
    "version": 3
   },
   "file_extension": ".py",
   "mimetype": "text/x-python",
   "name": "python",
   "nbconvert_exporter": "python",
   "pygments_lexer": "ipython3",
   "version": "3.7.2"
  }
 },
 "nbformat": 4,
 "nbformat_minor": 2
}
