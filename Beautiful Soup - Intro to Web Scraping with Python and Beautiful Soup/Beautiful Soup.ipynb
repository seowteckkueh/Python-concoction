{
 "cells": [
  {
   "cell_type": "markdown",
   "metadata": {},
   "source": [
    "## Intro to Web Scraping with Python and Beautiful Soup\n",
    "An introductory tutorial to web scraping with python and beautiful soup by Data Science Dojo <br>\n",
    "\n",
    "https://www.youtube.com/watch?v=XQgXKtPSzUI\n"
   ]
  },
  {
   "cell_type": "code",
   "execution_count": null,
   "metadata": {},
   "outputs": [],
   "source": [
    "import bs4\n",
    "from urllib.request import urlopen as uReq\n",
    "from bs4 import BeautifulSoup as soup"
   ]
  },
  {
   "cell_type": "code",
   "execution_count": 26,
   "metadata": {},
   "outputs": [],
   "source": [
    "# opening connection and download the page\n",
    "my_url='https://www.newegg.com/global/my-en/p/pl?d=video+card'\n",
    "uClient=uReq(my_url) \n",
    "page_html=uClient.read()\n",
    "uClient.close()\n",
    "\n"
   ]
  },
  {
   "cell_type": "code",
   "execution_count": 44,
   "metadata": {},
   "outputs": [],
   "source": [
    "# parse the html page using Beautiful Soup\n",
    "page_soup=soup(page_html,\"html.parser\")"
   ]
  },
  {
   "cell_type": "code",
   "execution_count": 45,
   "metadata": {},
   "outputs": [],
   "source": [
    "# use inspect on Google Chrome to inspect the html of the individual search result item\n",
    "# notice that each item is encapsuled in the tag div with the class named \"item-container\"\n",
    "containers=page_soup.findAll(\"div\",{\"class\":\"item-container\"})"
   ]
  },
  {
   "cell_type": "code",
   "execution_count": 50,
   "metadata": {},
   "outputs": [],
   "source": [
    "#remove the first 4 items in the container list because it is not part of the search\n",
    "containers=containers[4:]"
   ]
  },
  {
   "cell_type": "code",
   "execution_count": 56,
   "metadata": {},
   "outputs": [],
   "source": [
    "# try to query the brand, name and priceof the product \n",
    "container=containers[0]"
   ]
  },
  {
   "cell_type": "code",
   "execution_count": 131,
   "metadata": {},
   "outputs": [
    {
     "data": {
      "text/plain": [
       "'MSI'"
      ]
     },
     "execution_count": 131,
     "metadata": {},
     "output_type": "execute_result"
    }
   ],
   "source": [
    "container.find(\"div\",{\"class\":\"item-info\"}).div.a.img[\"title\"]"
   ]
  },
  {
   "cell_type": "code",
   "execution_count": 132,
   "metadata": {},
   "outputs": [
    {
     "data": {
      "text/plain": [
       "'MSI Radeon RX 5700 DirectX 12 RX 5700 8G 8GB 256-Bit GDDR6 PCI Express 4.0 HDCP Ready Video Card'"
      ]
     },
     "execution_count": 132,
     "metadata": {},
     "output_type": "execute_result"
    }
   ],
   "source": [
    "container.find(\"a\",{\"class\":\"item-title\"}).text"
   ]
  },
  {
   "cell_type": "code",
   "execution_count": 133,
   "metadata": {},
   "outputs": [
    {
     "data": {
      "text/plain": [
       "'1,502'"
      ]
     },
     "execution_count": 133,
     "metadata": {},
     "output_type": "execute_result"
    }
   ],
   "source": [
    "container.find(\"li\",{\"class\":\"price-current\"}).strong.text"
   ]
  },
  {
   "cell_type": "code",
   "execution_count": 125,
   "metadata": {},
   "outputs": [
    {
     "name": "stdout",
     "output_type": "stream",
     "text": [
      "brand: GIGABYTE\n",
      "name: GIGABYTE GeForce RTX 2070 Super GAMING OC 3X 8G Graphics Card, 3 x WINDFORCE Fans, 8GB 256-Bit GDDR6, GV-N207SGAMING OC-8GD Video Card\n",
      "price: RM2,377\n",
      "\n",
      "brand: MSI\n",
      "name: MSI Radeon RX 5700 XT DirectX 12 RX 5700 XT MECH OC 8GB 256-Bit GDDR6 PCI Express 4.0 HDCP Ready CrossFireX Support Video Card\n",
      "price: RM1,830\n",
      "\n",
      "brand: GIGABYTE\n",
      "name: GIGABYTE Radeon RX 5700 XT GAMING OC 8G Graphics Card, PCIe 4.0, 8GB 256-Bit GDDR6, GV-R57XTGAMING OC-8GD Video Card\n",
      "price: RM1,800\n",
      "\n",
      "brand: GIGABYTE\n",
      "name: GIGABYTE GeForce RTX 2080 Super WINDFORCE OC 8G Graphics Card, 3 x WINDFORCE Fans, 8GB 256-Bit GDDR6, GV-N208SWF3OC-8GD Video Card\n",
      "price: RM3,076\n",
      "\n",
      "brand: MSI\n",
      "name: MSI GeForce RTX 2080 SUPER DirectX 12 RTX 2080 Super Gaming TRIO 8GB 256-Bit GDDR6 PCI Express 3.0 x16 HDCP Ready SLI Support Video Card\n",
      "price: RM3,215\n",
      "\n",
      "brand: MSI\n",
      "name: MSI Radeon RX 5700 DirectX 12 RX 5700 MECH OC 8GB 256-Bit GDDR6 PCI Express 4.0 HDCP Ready CrossFireX Support Video Card\n",
      "price: RM1,619\n",
      "\n",
      "brand: MSI\n",
      "name: MSI Radeon RX 5700 XT DirectX 12 RX 5700 XT EVOKE OC 8GB 256-Bit GDDR6 PCI Express 4.0 HDCP Ready CrossFireX Support Video Card\n",
      "price: RM1,841\n",
      "\n",
      "brand: MSI\n",
      "name: MSI GeForce RTX 2060 SUPER DirectX 12 RTX 2060 SUPER GAMING 8GB 256-Bit GDDR6 PCI Express 3.0 x16 HDCP Ready Video Card\n",
      "price: RM1,821\n",
      "\n",
      "brand: ASRock\n",
      "name: ASRock Radeon RX 5700 XT DirectX 12 RX 5700 XT CHALLENGER D 8G OC 8GB 256-Bit GDDR6 PCI Express 4.0 HDCP Ready Video Card\n",
      "price: RM1,753\n",
      "\n",
      "brand: ASUS\n",
      "name: ASUS Dual GeForce RTX 2080 DirectX 12 DUAL-RTX2080-O8G-EVO 8GB 256-Bit GDDR6 PCI Express 3.0 HDCP Ready SLI Support Video Card\n",
      "price: RM2,777\n",
      "\n",
      "brand: EVGA\n",
      "name: EVGA GeForce RTX 2080 SUPER XC GAMING Video Card, 08G-P4-3182-KR, 8GB GDDR6, RGB LED, Metal Backplate\n",
      "price: RM3,162\n",
      "\n",
      "brand: MSI\n",
      "name: MSI GeForce RTX 2070 SUPER DirectX 12 RTX 2070 SUPER GAMING X TRIO 8GB 256-Bit GDDR6 PCI Express 3.0 x16 HDCP Ready SLI Support Video Card\n",
      "price: RM2,439\n",
      "\n",
      "brand: EVGA\n",
      "name: EVGA GeForce RTX 2080 SUPER FTW3 HYBRID GAMING Video Card, 08G-P4-3288-KR, 8GB GDDR6, RGB LED Logo, iCX2 Technology, Metal Backplate\n",
      "price: RM3,291\n",
      "\n",
      "brand: EVGA\n",
      "name: EVGA GeForce RTX 2080 SUPER DirectX 12 08G-P4-3188-KR 8GB 256-Bit GDDR6 PCI Express 3.0 HDCP Ready SLI Support Video Card\n",
      "price: RM3,205\n",
      "\n",
      "brand: GIGABYTE\n",
      "name: GIGABYTE AORUS GeForce RTX 2070 Super 8G Graphics Card, WINDFORCE Stack, 8GB 256-Bit GDDR6, GV-N207SAORUS-8GC Video Card\n",
      "price: RM2,529\n",
      "\n",
      "brand: XFX\n",
      "name: XFX Radeon RX 5700 XT DirectX 12 RX-57XT8MFD6 8GB 256-Bit GDDR6 PCI Express 4.0 Video Card\n",
      "price: RM1,933\n",
      "\n",
      "brand: ASUS\n",
      "name: ASUS ROG STRIX GeForce RTX 2060 SUPER ROG-STRIX-RTX2060S-O8G-GAMING 8GB 256-Bit GDDR6 PCI Express 3.0 HDCP Ready Video Card\n",
      "price: RM2,018\n",
      "\n",
      "brand: GIGABYTE\n",
      "name: GIGABYTE AORUS GeForce RTX 2060 Super 8G Graphics Card, WINDFORCE Stack, 8GB 256-Bit GDDR6, GV-N206SAORUS-8GC Video Card\n",
      "price: RM1,929\n",
      "\n",
      "brand: MSI\n",
      "name: MSI GeForce RTX 2080 SUPER DirectX 12 RTX 2080 Super Gaming X TRIO 8GB 256-Bit GDDR6 PCI Express 3.0 x16 HDCP Ready SLI Support Video Card\n",
      "price: RM3,210\n",
      "\n",
      "brand: GIGABYTE\n",
      "name: GIGABYTE GeForce RTX 2060 Super GAMING OC 8G Graphics Card, 3 x WINDFORCE Fans, 8GB 256-Bit GDDR6, GV-N206SGAMING OC-8GC Video Card\n",
      "price: RM1,770\n",
      "\n",
      "brand: MSI\n",
      "name: MSI Radeon RX 5700 XT DirectX 12 RX 5700 XT 8G 8GB 256-Bit GDDR6 PCI Express 4.0 HDCP Ready Video Card\n",
      "price: RM1,723\n",
      "\n",
      "brand: MSI\n",
      "name: MSI GeForce GTX 1660 Ti DirectX 12 GTX 1660 TI GAMING X 6G 6GB 192-Bit GDDR6 PCI Express 3.0 x16 HDCP Ready Video Card\n",
      "price: RM1,332\n",
      "\n",
      "brand: XFX\n",
      "name: XFX Radeon RX 5700 DirectX 12 RX-57XL8MFG6 8GB 256-Bit GDDR6 PCI Express 4.0 CrossFireX Support Video Card\n",
      "price: RM1,512\n",
      "\n",
      "brand: MSI\n",
      "name: MSI GeForce RTX 2060 DirectX 12 RTX 2060 GAMING Z 6G 6GB 192-Bit GDDR6 PCI Express 3.0 x16 HDCP Ready Video Card\n",
      "price: RM1,636\n",
      "\n",
      "brand: GIGABYTE\n",
      "name: GIGABYTE GeForce RTX 2060 Super WINDFORCE OC 8G Graphics Card, 2 x WINDFORCE Fans, 8GB 256-Bit GDDR6, GV-N206SWF2OC-8GD Video Card\n",
      "price: RM1,723\n",
      "\n",
      "brand: EVGA\n",
      "name: EVGA GeForce RTX 2080 SUPER XC ULTRA GAMING Video Card, 08G-P4-3183-KR, 8GB GDDR6, RGB LED, Metal Backplate\n",
      "price: RM3,162\n",
      "\n",
      "brand: MSI\n",
      "name: MSI GeForce RTX 2060 SUPER DirectX 12 RTX 2060 SUPER ARMOR OC 8GB 256-Bit GDDR6 PCI Express 3.0 x16 HDCP Ready Video Card\n",
      "price: RM1,802\n",
      "\n",
      "brand: MSI\n",
      "name: MSI Radeon RX 5700 DirectX 12 RX 5700 8G 8GB 256-Bit GDDR6 PCI Express 4.0 HDCP Ready Video Card\n",
      "price: RM1,502\n",
      "\n"
     ]
    }
   ],
   "source": [
    "# test out the code\n",
    "for container in containers:\n",
    "    brand=container.find(\"div\",{\"class\":\"item-info\"}).div.a.img[\"title\"]\n",
    "    product_name=container.find(\"a\",{\"class\":\"item-title\"}).text\n",
    "    price=\"RM\"+container.find(\"li\",{\"class\":\"price-current\"}).strong.text\n",
    "    print(\"brand: \"+brand)\n",
    "    print(\"name: \"+product_name)\n",
    "    print(\"price: \"+price+\"\\n\")"
   ]
  },
  {
   "cell_type": "code",
   "execution_count": 134,
   "metadata": {},
   "outputs": [],
   "source": [
    "# write the result in the csv file called \"products.csv\"\n",
    "filename=\"products.csv\"\n",
    "f=open(filename,\"w\")\n",
    "headers=\"Brand,Prodcut_name,Price\\n\"\n",
    "f.write(headers)\n",
    "for container in containers:\n",
    "    brand=container.find(\"div\",{\"class\":\"item-info\"}).div.a.img[\"title\"]\n",
    "    product_name=container.find(\"a\",{\"class\":\"item-title\"}).text\n",
    "    price=\"RM\"+container.find(\"li\",{\"class\":\"price-current\"}).strong.text\n",
    "    f.write(brand+\",\"+product_name.replace(\",\",\"|\")+\",\"+price.replace(\",\",\"\")+\"\\n\")\n",
    "f.close()"
   ]
  }
 ],
 "metadata": {
  "kernelspec": {
   "display_name": "Python 3",
   "language": "python",
   "name": "python3"
  },
  "language_info": {
   "codemirror_mode": {
    "name": "ipython",
    "version": 3
   },
   "file_extension": ".py",
   "mimetype": "text/x-python",
   "name": "python",
   "nbconvert_exporter": "python",
   "pygments_lexer": "ipython3",
   "version": "3.7.2"
  }
 },
 "nbformat": 4,
 "nbformat_minor": 2
}
