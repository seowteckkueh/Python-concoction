{
 "cells": [
  {
   "cell_type": "markdown",
   "metadata": {},
   "source": [
    "This notebook is based on Corey Schafer's tutorial on Python Object-Oriented Tutorials. <br>\n",
    "https://www.youtube.com/playlist?list=PL-osiE80TeTsqhIuOqKhwlXsIBIdSeYtc"
   ]
  },
  {
   "cell_type": "markdown",
   "metadata": {},
   "source": [
    "## Classes and Instances"
   ]
  },
  {
   "cell_type": "markdown",
   "metadata": {},
   "source": [
    "#### Why are we using classes?\n",
    "Classes allow us to group data(attributes) and functions(methods) in a way easy to reuse and build upon if needed."
   ]
  },
  {
   "cell_type": "markdown",
   "metadata": {},
   "source": [
    "#### Example of using class\n",
    "###### Represent company employee in Python code\n",
    "This is suitable to be use in class because each employee has specific attributes and methods. <br>\n",
    "For example, each employee have a name, email address, pay, action they can perform etc."
   ]
  },
  {
   "cell_type": "code",
   "execution_count": 1,
   "metadata": {},
   "outputs": [],
   "source": [
    "# Create a class\n",
    "class Employee:\n",
    "    pass"
   ]
  },
  {
   "cell_type": "markdown",
   "metadata": {},
   "source": [
    "#### Difference betwen class and instance of a class?\n",
    "Class is a blue-print to create an instances <br>\n",
    "Each individual employee created using the Employee class is an instance of that class."
   ]
  },
  {
   "cell_type": "code",
   "execution_count": 2,
   "metadata": {},
   "outputs": [],
   "source": [
    "#--Example--\n",
    "emp_1=Employee()\n",
    "emp_2=Employee()"
   ]
  },
  {
   "cell_type": "code",
   "execution_count": 5,
   "metadata": {},
   "outputs": [
    {
     "name": "stdout",
     "output_type": "stream",
     "text": [
      "<__main__.Employee object at 0x00000000051CF0F0>\n",
      "<__main__.Employee object at 0x00000000051CF0B8>\n"
     ]
    }
   ],
   "source": [
    "# these two are Employee object which are unique\n",
    "print(emp_1)\n",
    "print(emp_2)"
   ]
  },
  {
   "cell_type": "code",
   "execution_count": 6,
   "metadata": {},
   "outputs": [
    {
     "name": "stdout",
     "output_type": "stream",
     "text": [
      "ben.kueh@company.com\n",
      "test.user@company.com\n"
     ]
    }
   ],
   "source": [
    "#-- manual way of assigning attribute to the instance--\n",
    "emp_1.first='Ben'\n",
    "emp_1.last='Kueh'\n",
    "emp_1.email='ben.kueh@company.com'\n",
    "emp_1.pay=50000\n",
    "\n",
    "emp_2.first='Test'\n",
    "emp_2.last='user'\n",
    "emp_2.email='test.user@company.com'\n",
    "emp_2.pay=500\n",
    "\n",
    "print(emp_1.email)\n",
    "print(emp_2.email)"
   ]
  },
  {
   "cell_type": "code",
   "execution_count": 7,
   "metadata": {},
   "outputs": [
    {
     "name": "stdout",
     "output_type": "stream",
     "text": [
      "Poppy.Zhang@company.com\n",
      "test.user@company.com\n"
     ]
    }
   ],
   "source": [
    "#--prefered way to work with instances--\n",
    "# user __init__ method as the constructor\n",
    "# self is the instance\n",
    "class Employee:\n",
    "    def __init__(self,first,last,pay):\n",
    "        self.first= first\n",
    "        self.last= last\n",
    "        self.pay= pay\n",
    "        self.email=first+'.'+last+'@company.com'\n",
    "        \n",
    "emp_1=Employee('Poppy','Zhang',500000)\n",
    "emp_2=Employee('test','user',0)\n",
    "\n",
    "print(emp_1.email)\n",
    "print(emp_2.email)"
   ]
  },
  {
   "cell_type": "code",
   "execution_count": 8,
   "metadata": {},
   "outputs": [
    {
     "name": "stdout",
     "output_type": "stream",
     "text": [
      "Poppy Zhang\n"
     ]
    }
   ],
   "source": [
    "# print the full name\n",
    "print('{} {}'.format(emp_1.first,emp_1.last))"
   ]
  },
  {
   "cell_type": "code",
   "execution_count": 10,
   "metadata": {},
   "outputs": [
    {
     "name": "stdout",
     "output_type": "stream",
     "text": [
      "John Doe\n"
     ]
    }
   ],
   "source": [
    "# We want to include this function into the instance as a method\n",
    "class Employee:\n",
    "    def __init__(self,first,last,pay):\n",
    "        self.first= first\n",
    "        self.last= last\n",
    "        self.pay= pay\n",
    "        self.email=first+'.'+last+'@company.com'\n",
    "    def fullname(self):\n",
    "        return '{} {}'.format(self.first,self.last)\n",
    "    \n",
    "emp_3=Employee('John','Doe',500)\n",
    "\n",
    "print(emp_3.fullname())"
   ]
  },
  {
   "cell_type": "code",
   "execution_count": 12,
   "metadata": {},
   "outputs": [
    {
     "name": "stdout",
     "output_type": "stream",
     "text": [
      "John Doe\n"
     ]
    }
   ],
   "source": [
    "# this is what happens in the background\n",
    "print(Employee.fullname(emp_3))"
   ]
  },
  {
   "cell_type": "markdown",
   "metadata": {},
   "source": [
    "## Class Variables\n",
    "Difference between instance variables and class variables"
   ]
  },
  {
   "cell_type": "code",
   "execution_count": 25,
   "metadata": {},
   "outputs": [
    {
     "name": "stdout",
     "output_type": "stream",
     "text": [
      "500000\n",
      "520000\n"
     ]
    }
   ],
   "source": [
    "# Company give annual salary raise for all the employees\n",
    "# Let us add this in the class as a variable\n",
    "\n",
    "class Employee:\n",
    "    def __init__(self,first,last,pay):\n",
    "        self.first= first\n",
    "        self.last= last\n",
    "        self.pay= pay\n",
    "        self.email=first+'.'+last+'@company.com'\n",
    "    def fullname(self):\n",
    "        return '{} {}'.format(self.first,self.last)\n",
    "    def apply_raise(self):\n",
    "        self.pay=int(self.pay*1.04)\n",
    "\n",
    "emp_1=Employee('Ben','Kueh',500000)\n",
    "print(emp_1.pay)\n",
    "emp_1.apply_raise()\n",
    "print(emp_1.pay)"
   ]
  },
  {
   "cell_type": "code",
   "execution_count": 26,
   "metadata": {},
   "outputs": [
    {
     "name": "stdout",
     "output_type": "stream",
     "text": [
      "500000\n",
      "520000\n"
     ]
    }
   ],
   "source": [
    "# make the raise amount a separate variable in the class\n",
    "class Employee:\n",
    "    raise_amount=1.04 \n",
    "    def __init__(self,first,last,pay):\n",
    "        self.first= first\n",
    "        self.last= last\n",
    "        self.pay= pay\n",
    "        self.email=first+'.'+last+'@company.com'\n",
    "    def fullname(self):\n",
    "        return '{} {}'.format(self.first,self.last)\n",
    "    def apply_raise(self):\n",
    "        self.pay=int(self.pay*self.raise_amount)\n",
    "\n",
    "emp_1=Employee('Ben','Kueh',500000)\n",
    "print(emp_1.pay)\n",
    "emp_1.apply_raise()\n",
    "print(emp_1.pay)\n"
   ]
  },
  {
   "cell_type": "code",
   "execution_count": 27,
   "metadata": {},
   "outputs": [
    {
     "name": "stdout",
     "output_type": "stream",
     "text": [
      "1.04\n",
      "1.04\n"
     ]
    }
   ],
   "source": [
    "# if we call raise_amount attribute, it will try to look for it in the instance\n",
    "# if it is not in the instance, it will find it in the class which the instance is inherited from\n",
    "\n",
    "print(Employee.raise_amount)\n",
    "print(emp_1.raise_amount)"
   ]
  },
  {
   "cell_type": "code",
   "execution_count": 28,
   "metadata": {},
   "outputs": [
    {
     "name": "stdout",
     "output_type": "stream",
     "text": [
      "{'first': 'Ben', 'last': 'Kueh', 'pay': 520000, 'email': 'Ben.Kueh@company.com'}\n",
      "\n",
      "{'__module__': '__main__', 'raise_amount': 1.04, '__init__': <function Employee.__init__ at 0x00000000051B5B70>, 'fullname': <function Employee.fullname at 0x00000000051B5C80>, 'apply_raise': <function Employee.apply_raise at 0x00000000051B5BF8>, '__dict__': <attribute '__dict__' of 'Employee' objects>, '__weakref__': <attribute '__weakref__' of 'Employee' objects>, '__doc__': None}\n"
     ]
    }
   ],
   "source": [
    "# below show's that raise_amount is not in the instance, but available in the class\n",
    "# print out the namespace of both emp_1 and Employee\n",
    "print(emp_1.__dict__)\n",
    "print()\n",
    "print(Employee.__dict__)\n",
    "\n",
    "# --Notice that the Employee class contains the raise_amount attribute--!!!!"
   ]
  },
  {
   "cell_type": "code",
   "execution_count": 30,
   "metadata": {},
   "outputs": [
    {
     "name": "stdout",
     "output_type": "stream",
     "text": [
      "629200\n",
      "1.1\n"
     ]
    }
   ],
   "source": [
    "# now we want to increase the raise amount\n",
    "Employee.raise_amount=1.10\n",
    "emp_1.apply_raise()\n",
    "print(emp_1.pay)\n",
    "print(emp_1.raise_amount)"
   ]
  },
  {
   "cell_type": "code",
   "execution_count": 31,
   "metadata": {},
   "outputs": [
    {
     "name": "stdout",
     "output_type": "stream",
     "text": [
      "1.5\n",
      "1.1\n"
     ]
    }
   ],
   "source": [
    "# ---What if we assign raise_amount to emp1???---\n",
    "emp_1.raise_amount=1.5\n",
    "print(emp_1.raise_amount)\n",
    "print(Employee.raise_amount)"
   ]
  },
  {
   "cell_type": "code",
   "execution_count": 32,
   "metadata": {},
   "outputs": [
    {
     "name": "stdout",
     "output_type": "stream",
     "text": [
      "{'first': 'Ben', 'last': 'Kueh', 'pay': 629200, 'email': 'Ben.Kueh@company.com', 'raise_amount': 1.5}\n"
     ]
    }
   ],
   "source": [
    "# --Notice that the raise_amount between emp_1 and the clasee Employee is different\n",
    "print(emp_1.__dict__)\n"
   ]
  },
  {
   "cell_type": "code",
   "execution_count": 33,
   "metadata": {},
   "outputs": [],
   "source": [
    "# -- emp_1 instance now have the attribute raise_amount\n",
    "# -- when we call for raise_amount, the program will try to find raise_amount in the instance first before finding it in class"
   ]
  },
  {
   "cell_type": "code",
   "execution_count": 41,
   "metadata": {},
   "outputs": [
    {
     "name": "stdout",
     "output_type": "stream",
     "text": [
      "2\n"
     ]
    }
   ],
   "source": [
    "# ---Now we want to keep track of the number of employees--\n",
    "# Number of empoyees should be the same in all instances\n",
    "class Employee:\n",
    "    raise_amount=1.04 \n",
    "    num_of_emps=0\n",
    "    def __init__(self,first,last,pay):\n",
    "        self.first= first\n",
    "        self.last= last\n",
    "        self.pay= pay\n",
    "        self.email=first+'.'+last+'@company.com'\n",
    "        Employee.num_of_emps+=1  #Employee instead of self because we want this attribute to be associated with the class instead of the instance\n",
    "    def fullname(self):\n",
    "        return '{} {}'.format(self.first,self.last)\n",
    "    def apply_raise(self):\n",
    "        self.pay=int(self.pay*self.raise_amount)\n",
    "\n",
    "emp_1=Employee('Ben','Kueh',500000)\n",
    "emp_2=Employee('Poppy','Zhang',600000)\n",
    "\n",
    "print(Employee.num_of_emps)"
   ]
  },
  {
   "cell_type": "markdown",
   "metadata": {},
   "source": [
    "## Classmethods and Staticmethods\n",
    "Difference between regular methods, class methods and static methods<br>\n",
    "Regular methods and a class automatically takes the instance as the first argument (self)"
   ]
  },
  {
   "cell_type": "markdown",
   "metadata": {},
   "source": [
    "#### Classmethods"
   ]
  },
  {
   "cell_type": "code",
   "execution_count": 48,
   "metadata": {},
   "outputs": [],
   "source": [
    "#--How to create a class method instead?--\n",
    "# Use the @classmethod decorator\n",
    "\n",
    "class Employee:\n",
    "    raise_amount=1.04 \n",
    "    num_of_emps=0\n",
    "    def __init__(self,first,last,pay):\n",
    "        self.first= first\n",
    "        self.last= last\n",
    "        self.pay= pay\n",
    "        self.email=first+'.'+last+'@company.com'\n",
    "        Employee.num_of_emps+=1  #Employee instead of self because we want this attribute to be associated with the class instead of the instance\n",
    "    def fullname(self):\n",
    "        return '{} {}'.format(self.first,self.last)\n",
    "    def apply_raise(self):\n",
    "        self.pay=int(self.pay*self.raise_amount)\n",
    "    @classmethod\n",
    "    def set_raise_amt(cls,amount):\n",
    "        cls.raise_amount=amount"
   ]
  },
  {
   "cell_type": "code",
   "execution_count": 49,
   "metadata": {},
   "outputs": [
    {
     "name": "stdout",
     "output_type": "stream",
     "text": [
      "1.04\n",
      "1.04\n",
      "1.04\n"
     ]
    }
   ],
   "source": [
    "emp_1=Employee('Ben','Kueh',500000)\n",
    "emp_2=Employee('Poppy','Zhang',600000)\n",
    "\n",
    "print(Employee.raise_amount)\n",
    "print(emp_1.raise_amount)\n",
    "print(emp_2.raise_amount)"
   ]
  },
  {
   "cell_type": "code",
   "execution_count": 50,
   "metadata": {},
   "outputs": [
    {
     "name": "stdout",
     "output_type": "stream",
     "text": [
      "1.1\n",
      "1.1\n",
      "1.1\n"
     ]
    }
   ],
   "source": [
    "Employee.set_raise_amt(1.1) #automatically takes in class as the first argument\n",
    "print(Employee.raise_amount)\n",
    "print(emp_1.raise_amount)\n",
    "print(emp_2.raise_amount)"
   ]
  },
  {
   "cell_type": "code",
   "execution_count": 51,
   "metadata": {},
   "outputs": [
    {
     "name": "stdout",
     "output_type": "stream",
     "text": [
      "Ben.Kueh@company.com\n",
      "60000\n"
     ]
    }
   ],
   "source": [
    "# Use class methods as constructors\n",
    "# provide multiple ways to create object\n",
    "\n",
    "#---Example---\n",
    "# input a string with all the details to create an instance\n",
    "\n",
    "emp_str_1='Ben-Kueh-60000'\n",
    "emp_str_2='Poppy-Zhang-70000'\n",
    "emp_str_3='John-Does-5000'\n",
    "\n",
    "first,last,pay=emp_str_1.split('-')\n",
    "new_emp_1=Employee(first,last,pay)\n",
    "\n",
    "print(new_emp_1.email)\n",
    "print(new_emp_1.pay)"
   ]
  },
  {
   "cell_type": "code",
   "execution_count": 61,
   "metadata": {},
   "outputs": [],
   "source": [
    "# Instead of parsing through the function multiple times\n",
    "# We add a class method which receive a string input and create a new employee instance\n",
    "class Employee:\n",
    "    raise_amount=1.04 \n",
    "    num_of_emps=0\n",
    "    def __init__(self,first,last,pay):\n",
    "        self.first= first\n",
    "        self.last= last\n",
    "        self.pay= pay\n",
    "        self.email=first+'.'+last+'@company.com'\n",
    "        Employee.num_of_emps+=1  #Employee instead of self because we want this attribute to be associated with the class instead of the instance\n",
    "    def fullname(self):\n",
    "        return '{} {}'.format(self.first,self.last)\n",
    "    def apply_raise(self):\n",
    "        self.pay=int(self.pay*self.raise_amount)\n",
    "    @classmethod\n",
    "    def set_raise_amt(cls,amount):\n",
    "        cls.raise_amount=amount\n",
    "    \n",
    "    @classmethod\n",
    "    def from_string(cls,emp_str):\n",
    "        first,last,pay=emp_str.split('-')\n",
    "        return cls(first,last,pay)\n",
    "        "
   ]
  },
  {
   "cell_type": "code",
   "execution_count": 63,
   "metadata": {},
   "outputs": [
    {
     "name": "stdout",
     "output_type": "stream",
     "text": [
      "Ben.Kueh@company.com\n",
      "60000\n"
     ]
    }
   ],
   "source": [
    "emp_str_1='Ben-Kueh-60000'\n",
    "emp_str_2='Poppy-Zhang-70000'\n",
    "emp_str_3='John-Does-5000'\n",
    "\n",
    "new_emp_1=Employee.from_string(emp_str_1)\n",
    "print(new_emp_1.email)\n",
    "print(new_emp_1.pay)\n"
   ]
  },
  {
   "cell_type": "markdown",
   "metadata": {},
   "source": [
    "#### Staticmethods\n",
    "Staticmethods does not automatically takes in the instance or class. <br>\n",
    "It behaves like regular methods and we include it in our classes because it has some logical connections with the class."
   ]
  },
  {
   "cell_type": "code",
   "execution_count": 65,
   "metadata": {},
   "outputs": [
    {
     "name": "stdout",
     "output_type": "stream",
     "text": [
      "False\n"
     ]
    }
   ],
   "source": [
    "#---Example---\n",
    "# We want a simple function that takes in a date and return whether or not that is a work day.\n",
    "# This has a connection with the employee class but it does not depend on any specific instance or class variable\n",
    "\n",
    "class Employee:\n",
    "    raise_amount=1.04 \n",
    "    num_of_emps=0\n",
    "    def __init__(self,first,last,pay):\n",
    "        self.first= first\n",
    "        self.last= last\n",
    "        self.pay= pay\n",
    "        self.email=first+'.'+last+'@company.com'\n",
    "        Employee.num_of_emps+=1  #Employee instead of self because we want this attribute to be associated with the class instead of the instance\n",
    "    def fullname(self):\n",
    "        return '{} {}'.format(self.first,self.last)\n",
    "    def apply_raise(self):\n",
    "        self.pay=int(self.pay*self.raise_amount)\n",
    "    @classmethod\n",
    "    def set_raise_amt(cls,amount):\n",
    "        cls.raise_amount=amount\n",
    "    \n",
    "    @classmethod\n",
    "    def from_string(cls,emp_str):\n",
    "        first,last,pay=emp_str.split('-')\n",
    "        return cls(first,last,pay)\n",
    "    @staticmethod\n",
    "    def is_workday(day):\n",
    "        if day.weekday()==5 or day.weekday()==6:\n",
    "            return False\n",
    "        return True\n",
    "    \n",
    "import datetime\n",
    "my_date=datetime.date(2019,9,29)\n",
    "\n",
    "print(Employee.is_workday(my_date))"
   ]
  },
  {
   "cell_type": "markdown",
   "metadata": {},
   "source": [
    "## Inheritance-Creating Subclasses\n",
    "Inheritance allows us to inherite attributes and methods from parent class"
   ]
  },
  {
   "cell_type": "code",
   "execution_count": 69,
   "metadata": {},
   "outputs": [],
   "source": [
    "#---Example---\n",
    "# Let's say we want to create different types of employees\n",
    "# Developers and managers\n",
    "\n",
    "class Employee:\n",
    "    raise_amount=1.04 \n",
    "    def __init__(self,first,last,pay):\n",
    "        self.first= first\n",
    "        self.last= last\n",
    "        self.pay= pay\n",
    "        self.email=first+'.'+last+'@company.com'\n",
    "\n",
    "    def fullname(self):\n",
    "        return '{} {}'.format(self.first,self.last)\n",
    "    def apply_raise(self):\n",
    "        self.pay=int(self.pay*self.raise_amount)\n",
    "\n",
    "class Developer(Employee):\n",
    "    pass\n"
   ]
  },
  {
   "cell_type": "code",
   "execution_count": 71,
   "metadata": {},
   "outputs": [
    {
     "name": "stdout",
     "output_type": "stream",
     "text": [
      "Ben.Kueh@company.com\n",
      "Poppy.Kueh@company.com\n"
     ]
    }
   ],
   "source": [
    "dev_1=Developer('Ben','Kueh',50000)\n",
    "dev_2=Developer('Poppy','Kueh',60000)\n",
    "\n",
    "print(dev_1.email)\n",
    "print(dev_2.email)"
   ]
  },
  {
   "cell_type": "markdown",
   "metadata": {},
   "source": [
    "Although there is no code in Developer class, Python will walk up the chain of inheritance (method resolution order) until it finds what it is looking for."
   ]
  },
  {
   "cell_type": "code",
   "execution_count": 72,
   "metadata": {},
   "outputs": [
    {
     "name": "stdout",
     "output_type": "stream",
     "text": [
      "Help on class Developer in module __main__:\n",
      "\n",
      "class Developer(Employee)\n",
      " |  Developer(first, last, pay)\n",
      " |  \n",
      " |  Method resolution order:\n",
      " |      Developer\n",
      " |      Employee\n",
      " |      builtins.object\n",
      " |  \n",
      " |  Methods inherited from Employee:\n",
      " |  \n",
      " |  __init__(self, first, last, pay)\n",
      " |      Initialize self.  See help(type(self)) for accurate signature.\n",
      " |  \n",
      " |  apply_raise(self)\n",
      " |  \n",
      " |  fullname(self)\n",
      " |  \n",
      " |  ----------------------------------------------------------------------\n",
      " |  Data descriptors inherited from Employee:\n",
      " |  \n",
      " |  __dict__\n",
      " |      dictionary for instance variables (if defined)\n",
      " |  \n",
      " |  __weakref__\n",
      " |      list of weak references to the object (if defined)\n",
      " |  \n",
      " |  ----------------------------------------------------------------------\n",
      " |  Data and other attributes inherited from Employee:\n",
      " |  \n",
      " |  raise_amount = 1.04\n",
      "\n",
      "None\n"
     ]
    }
   ],
   "source": [
    "print(help(Developer))"
   ]
  },
  {
   "cell_type": "code",
   "execution_count": null,
   "metadata": {},
   "outputs": [],
   "source": [
    "class Employee:\n",
    "    raise_amount=1.04 \n",
    "    def __init__(self,first,last,pay):\n",
    "        self.first= first\n",
    "        self.last= last\n",
    "        self.pay= pay\n",
    "        self.email=first+'.'+last+'@company.com'\n",
    "\n",
    "    def fullname(self):\n",
    "        return '{} {}'.format(self.first,self.last)\n",
    "    def apply_raise(self):\n",
    "        self.pay=int(self.pay*self.raise_amount)\n",
    "\n",
    "class Developer(Employee):\n",
    "    raise_amount=1.1  # add another raise_amount attribute to the sub-class"
   ]
  },
  {
   "cell_type": "code",
   "execution_count": 74,
   "metadata": {},
   "outputs": [
    {
     "name": "stdout",
     "output_type": "stream",
     "text": [
      "52000\n",
      "54080\n"
     ]
    }
   ],
   "source": [
    "print(dev_1.pay)\n",
    "dev_1.apply_raise()\n",
    "print(dev_1.pay)"
   ]
  },
  {
   "cell_type": "code",
   "execution_count": 76,
   "metadata": {},
   "outputs": [],
   "source": [
    "# Now we want to pass in the main programming language for the developer as an attribute\n",
    "# However, the employee class only accepts first, last name and pay\n",
    "# We going to give Developer class it's own __init__ method\n",
    "class Employee:\n",
    "    raise_amount=1.04 \n",
    "    def __init__(self,first,last,pay):\n",
    "        self.first= first\n",
    "        self.last= last\n",
    "        self.pay= pay\n",
    "        self.email=first+'.'+last+'@company.com'\n",
    "\n",
    "    def fullname(self):\n",
    "        return '{} {}'.format(self.first,self.last)\n",
    "    def apply_raise(self):\n",
    "        self.pay=int(self.pay*self.raise_amount)\n",
    "\n",
    "class Developer(Employee):\n",
    "    raise_amount=1.1  \n",
    "    def __init__(self,first,last,pay,prog_lang):\n",
    "        super().__init__(first,last,pay)\n",
    "        self.prog_lang=prog_lang\n"
   ]
  },
  {
   "cell_type": "code",
   "execution_count": 77,
   "metadata": {},
   "outputs": [],
   "source": [
    "dev_1=Developer('Ben','Zhang',60000,'Python')\n",
    "dev_2=Developer('John','Doe',600,'Ruby')"
   ]
  },
  {
   "cell_type": "code",
   "execution_count": 78,
   "metadata": {},
   "outputs": [
    {
     "name": "stdout",
     "output_type": "stream",
     "text": [
      "Ben.Zhang@company.com\n",
      "Python\n"
     ]
    }
   ],
   "source": [
    "print(dev_1.email)\n",
    "print(dev_1.prog_lang)"
   ]
  },
  {
   "cell_type": "code",
   "execution_count": 79,
   "metadata": {},
   "outputs": [],
   "source": [
    "# Now we are going to create a class to create the manager\n",
    "# We going to give Developer class it's own __init__ method\n",
    "class Employee:\n",
    "    raise_amount=1.04 \n",
    "    def __init__(self,first,last,pay):\n",
    "        self.first= first\n",
    "        self.last= last\n",
    "        self.pay= pay\n",
    "        self.email=first+'.'+last+'@company.com'\n",
    "\n",
    "    def fullname(self):\n",
    "        return '{} {}'.format(self.first,self.last)\n",
    "    def apply_raise(self):\n",
    "        self.pay=int(self.pay*self.raise_amount)\n",
    "\n",
    "class Developer(Employee):\n",
    "    raise_amount=1.1  \n",
    "    def __init__(self,first,last,pay,prog_lang):\n",
    "        super().__init__(first,last,pay)\n",
    "        self.prog_lang=prog_lang\n",
    "class Manager(Employee):\n",
    "    def __init__(self,first,last,pay,employees=None):\n",
    "        super().__init__(first,last,pay)\n",
    "        if employees is None:\n",
    "            self.employees=[]\n",
    "        else:\n",
    "            self.employees=employees\n",
    "    def add_emp(self,emp):\n",
    "        if emp not in self.employees:\n",
    "            self.employees.append(emp)\n",
    "    def remove_emp(self,emp):\n",
    "        if emp in self.employees:\n",
    "            self.employees.remove(emp)\n",
    "    def print_emps(self):\n",
    "        for emp in self.employees:\n",
    "            print('-->',emp.fullname())\n",
    "            \n",
    "mgr_1=Manager('Ben','Kueh',500000,[dev_1])"
   ]
  },
  {
   "cell_type": "code",
   "execution_count": 80,
   "metadata": {},
   "outputs": [
    {
     "name": "stdout",
     "output_type": "stream",
     "text": [
      "Ben.Kueh@company.com\n"
     ]
    }
   ],
   "source": [
    "print(mgr_1.email)"
   ]
  },
  {
   "cell_type": "code",
   "execution_count": 82,
   "metadata": {},
   "outputs": [
    {
     "name": "stdout",
     "output_type": "stream",
     "text": [
      "--> Ben Zhang\n",
      "None\n"
     ]
    }
   ],
   "source": [
    "print(mgr_1.print_emps())"
   ]
  },
  {
   "cell_type": "code",
   "execution_count": 83,
   "metadata": {},
   "outputs": [
    {
     "name": "stdout",
     "output_type": "stream",
     "text": [
      "--> John Doe\n",
      "None\n"
     ]
    }
   ],
   "source": [
    "mgr_1.add_emp(dev_2)\n",
    "mgr_1.remove_emp(dev_1)\n",
    "print(mgr_1.print_emps())"
   ]
  },
  {
   "cell_type": "code",
   "execution_count": 93,
   "metadata": {},
   "outputs": [
    {
     "name": "stdout",
     "output_type": "stream",
     "text": [
      "True\n",
      "True\n",
      "False\n",
      "False\n",
      "False\n"
     ]
    }
   ],
   "source": [
    "print(isinstance(mgr_1,Manager))\n",
    "print(isinstance(mgr_1,Employee))\n",
    "print(isinstance(mgr_1,Developer))\n",
    "print(isinstance(Manager,Employee))\n",
    "print(isinstance(Manager,Developer))\n"
   ]
  },
  {
   "cell_type": "markdown",
   "metadata": {},
   "source": [
    "## Special (Magic/Dunder) Methods\n"
   ]
  },
  {
   "cell_type": "code",
   "execution_count": 94,
   "metadata": {},
   "outputs": [
    {
     "name": "stdout",
     "output_type": "stream",
     "text": [
      "2\n",
      "ab\n"
     ]
    }
   ],
   "source": [
    "print(1+1)\n",
    "print('a'+'b')"
   ]
  },
  {
   "cell_type": "markdown",
   "metadata": {},
   "source": [
    "Notice that addition have different behaviour for strings and integers."
   ]
  },
  {
   "cell_type": "code",
   "execution_count": 95,
   "metadata": {},
   "outputs": [
    {
     "name": "stdout",
     "output_type": "stream",
     "text": [
      "<__main__.Employee object at 0x0000000005204EF0>\n"
     ]
    }
   ],
   "source": [
    "print(emp_1)"
   ]
  },
  {
   "cell_type": "markdown",
   "metadata": {},
   "source": [
    "Printing our employee object returns something vague with not much information.\n",
    "It would be nice if we can change the print behaviour and print out something that is more useful. <br>\n",
    "This is where the special methods are use to change the build in behaviors and operations. <br>\n",
    "Double underscores is called Dunder ie \\__init__,\\__dict__"
   ]
  },
  {
   "cell_type": "code",
   "execution_count": 96,
   "metadata": {},
   "outputs": [],
   "source": [
    "# __repr__ unambigous representation of the object, used for debugging and logging\n",
    "# only meant to be seen by other developers\n",
    "def __repr__(self):\n",
    "    pass\n",
    "\n",
    "# __str__ more readable representation of the object\n",
    "# meant to be a display for the end user\n",
    "def __str__(self):\n",
    "    pass"
   ]
  },
  {
   "cell_type": "code",
   "execution_count": 117,
   "metadata": {},
   "outputs": [],
   "source": [
    "#--Example--!!!\n",
    "# This is the code to create employee instance\n",
    "class Employee:\n",
    "    raise_amount=1.04 \n",
    "    def __init__(self,first,last,pay):\n",
    "        self.first= first\n",
    "        self.last= last\n",
    "        self.pay= pay\n",
    "        self.email=first+'.'+last+'@company.com'\n",
    "\n",
    "    def fullname(self):\n",
    "        return '{} {}'.format(self.first,self.last)\n",
    "    def apply_raise(self):\n",
    "        self.pay=int(self.pay*self.raise_amount)\n",
    "\n",
    "# adding __repr__ dunder        \n",
    "#     def __repr__(self):\n",
    "#         return \"Employee('{}','{}','{}')\".format(self.first,self.last,self.pay)\n"
   ]
  },
  {
   "cell_type": "code",
   "execution_count": 120,
   "metadata": {},
   "outputs": [
    {
     "name": "stdout",
     "output_type": "stream",
     "text": [
      "<__main__.Employee object at 0x000000000528EF60>\n"
     ]
    }
   ],
   "source": [
    "emp_1=Employee('John','Doe',50000)\n",
    "print(emp_1)"
   ]
  },
  {
   "cell_type": "markdown",
   "metadata": {},
   "source": [
    "Notice that if we print this, it will return us a vague description of the Employee object."
   ]
  },
  {
   "cell_type": "code",
   "execution_count": 121,
   "metadata": {},
   "outputs": [],
   "source": [
    "# Now let us add the __repr__ dunder\n",
    "class Employee:\n",
    "    raise_amount=1.04 \n",
    "    def __init__(self,first,last,pay):\n",
    "        self.first= first\n",
    "        self.last= last\n",
    "        self.pay= pay\n",
    "        self.email=first+'.'+last+'@company.com'\n",
    "\n",
    "    def fullname(self):\n",
    "        return '{} {}'.format(self.first,self.last)\n",
    "    \n",
    "    def apply_raise(self):\n",
    "        self.pay=int(self.pay*self.raise_amount)     \n",
    "        \n",
    "    def __repr__(self):\n",
    "        return \"Employee('{}','{}','{}')\".format(self.first,self.last,self.pay)\n"
   ]
  },
  {
   "cell_type": "code",
   "execution_count": 123,
   "metadata": {},
   "outputs": [
    {
     "name": "stdout",
     "output_type": "stream",
     "text": [
      "Employee('John','Doe','50000')\n"
     ]
    }
   ],
   "source": [
    "emp_1=Employee('John','Doe',50000)\n",
    "print(emp_1)"
   ]
  },
  {
   "cell_type": "markdown",
   "metadata": {},
   "source": [
    "Now the print result is as what we defined in \\__repr__"
   ]
  },
  {
   "cell_type": "code",
   "execution_count": 124,
   "metadata": {},
   "outputs": [],
   "source": [
    "# Now let us add the __str__ dunder\n",
    "class Employee:\n",
    "    raise_amount=1.04 \n",
    "    def __init__(self,first,last,pay):\n",
    "        self.first= first\n",
    "        self.last= last\n",
    "        self.pay= pay\n",
    "        self.email=first+'.'+last+'@company.com'\n",
    "\n",
    "    def fullname(self):\n",
    "        return '{} {}'.format(self.first,self.last)\n",
    "    \n",
    "    def apply_raise(self):\n",
    "        self.pay=int(self.pay*self.raise_amount)     \n",
    "        \n",
    "    def __repr__(self):\n",
    "        return \"Employee('{}','{}','{}')\".format(self.first,self.last,self.pay)\n",
    "    \n",
    "    def __str__(self):\n",
    "        return \"{} - {}\".format(self.fullname(),self.email)"
   ]
  },
  {
   "cell_type": "code",
   "execution_count": 130,
   "metadata": {},
   "outputs": [
    {
     "name": "stdout",
     "output_type": "stream",
     "text": [
      "John Doe - John.Doe@company.com\n"
     ]
    }
   ],
   "source": [
    "emp_1=Employee('John','Doe',50000)\n",
    "print(emp_1) \n",
    "\n",
    "# __str__ will be print out, if __str__ is not defined, __repr__ will be printed out"
   ]
  },
  {
   "cell_type": "markdown",
   "metadata": {},
   "source": [
    "We can access repr and str individually as below."
   ]
  },
  {
   "cell_type": "code",
   "execution_count": 127,
   "metadata": {},
   "outputs": [
    {
     "name": "stdout",
     "output_type": "stream",
     "text": [
      "Employee('John','Doe','50000')\n",
      "John Doe - John.Doe@company.com\n"
     ]
    }
   ],
   "source": [
    "print(repr(emp_1))\n",
    "print(str(emp_1))"
   ]
  },
  {
   "cell_type": "code",
   "execution_count": 129,
   "metadata": {},
   "outputs": [
    {
     "name": "stdout",
     "output_type": "stream",
     "text": [
      "Employee('John','Doe','50000')\n",
      "John Doe - John.Doe@company.com\n"
     ]
    }
   ],
   "source": [
    "print(emp_1.__repr__())\n",
    "print(emp_1.__str__())"
   ]
  },
  {
   "cell_type": "code",
   "execution_count": 133,
   "metadata": {},
   "outputs": [
    {
     "name": "stdout",
     "output_type": "stream",
     "text": [
      "3\n",
      "3\n"
     ]
    }
   ],
   "source": [
    "#-- Another Example---\n",
    "print(1+2)\n",
    "\n",
    "#--Addition for integer is actually using dunder add __add__ in the background\n",
    "print(int.__add__(1,2))"
   ]
  },
  {
   "cell_type": "code",
   "execution_count": 134,
   "metadata": {},
   "outputs": [
    {
     "name": "stdout",
     "output_type": "stream",
     "text": [
      "ab\n"
     ]
    }
   ],
   "source": [
    "#-- Stings __add__ is different\n",
    "print(str.__add__('a','b'))"
   ]
  },
  {
   "cell_type": "markdown",
   "metadata": {},
   "source": [
    "Now we want to add two employees together and combine salary using \\__add__"
   ]
  },
  {
   "cell_type": "code",
   "execution_count": 135,
   "metadata": {},
   "outputs": [],
   "source": [
    "class Employee:\n",
    "    raise_amount=1.04 \n",
    "    def __init__(self,first,last,pay):\n",
    "        self.first= first\n",
    "        self.last= last\n",
    "        self.pay= pay\n",
    "        self.email=first+'.'+last+'@company.com'\n",
    "\n",
    "    def fullname(self):\n",
    "        return '{} {}'.format(self.first,self.last)\n",
    "    \n",
    "    def apply_raise(self):\n",
    "        self.pay=int(self.pay*self.raise_amount)     \n",
    "        \n",
    "    def __repr__(self):\n",
    "        return \"Employee('{}','{}','{}')\".format(self.first,self.last,self.pay)\n",
    "    \n",
    "    def __str__(self):\n",
    "        return \"{} - {}\".format(self.fullname(),self.email)\n",
    "    \n",
    "    def __add__(self,other):\n",
    "        return self.pay+other.pay"
   ]
  },
  {
   "cell_type": "code",
   "execution_count": 144,
   "metadata": {},
   "outputs": [
    {
     "name": "stdout",
     "output_type": "stream",
     "text": [
      "1000\n"
     ]
    }
   ],
   "source": [
    "emp_1=Employee('John','Doe',500)\n",
    "emp_2=Employee('Jane','Doe',500)\n",
    "print(emp_1+emp_2)"
   ]
  },
  {
   "cell_type": "markdown",
   "metadata": {},
   "source": [
    "Another type of dunder is \\__len__"
   ]
  },
  {
   "cell_type": "code",
   "execution_count": 143,
   "metadata": {},
   "outputs": [
    {
     "name": "stdout",
     "output_type": "stream",
     "text": [
      "4\n",
      "4\n"
     ]
    }
   ],
   "source": [
    "print(len('test'))\n",
    "print('test'.__len__())"
   ]
  },
  {
   "cell_type": "code",
   "execution_count": 147,
   "metadata": {},
   "outputs": [],
   "source": [
    "class Employee:\n",
    "    raise_amount=1.04 \n",
    "    def __init__(self,first,last,pay):\n",
    "        self.first= first\n",
    "        self.last= last\n",
    "        self.pay= pay\n",
    "        self.email=first+'.'+last+'@company.com'\n",
    "\n",
    "    def fullname(self):\n",
    "        return '{} {}'.format(self.first,self.last)\n",
    "    \n",
    "    def apply_raise(self):\n",
    "        self.pay=int(self.pay*self.raise_amount)     \n",
    "        \n",
    "    def __repr__(self):\n",
    "        return \"Employee('{}','{}','{}')\".format(self.first,self.last,self.pay)\n",
    "    \n",
    "    def __str__(self):\n",
    "        return \"{} - {}\".format(self.fullname(),self.email)\n",
    "    \n",
    "    def __add__(self,other):\n",
    "        return self.pay+other.pay\n",
    "    \n",
    "    def __len__(self):\n",
    "        return len(self.fullname())"
   ]
  },
  {
   "cell_type": "code",
   "execution_count": 149,
   "metadata": {},
   "outputs": [
    {
     "name": "stdout",
     "output_type": "stream",
     "text": [
      "8\n"
     ]
    }
   ],
   "source": [
    "emp_1=Employee('John','Doe',500)\n",
    "print(len(emp_1))"
   ]
  },
  {
   "cell_type": "markdown",
   "metadata": {},
   "source": [
    "## Property Decorators - Getters, Setters, and Deleters"
   ]
  },
  {
   "cell_type": "code",
   "execution_count": 151,
   "metadata": {},
   "outputs": [
    {
     "name": "stdout",
     "output_type": "stream",
     "text": [
      "John\n",
      "John.Doe@company.com\n",
      "John Doe\n"
     ]
    }
   ],
   "source": [
    "class Employee:\n",
    "    def __init__(self,first,last):\n",
    "        self.first=first\n",
    "        self.last=last\n",
    "        self.email=first+'.'+last+'@company.com'\n",
    "    \n",
    "    def fullname(self):\n",
    "        return '{} {}'.format(self.first,self.last)\n",
    "\n",
    "emp_1=Employee('John','Doe')\n",
    "\n",
    "print(emp_1.first)\n",
    "print(emp_1.email)\n",
    "print(emp_1.fullname())"
   ]
  },
  {
   "cell_type": "code",
   "execution_count": 153,
   "metadata": {},
   "outputs": [
    {
     "name": "stdout",
     "output_type": "stream",
     "text": [
      "Jim\n",
      "John.Doe@company.com\n",
      "Jim Doe\n"
     ]
    }
   ],
   "source": [
    "# now we are going to change the first name to Jim\n",
    "emp_1.first='Jim'\n",
    "print(emp_1.first)\n",
    "print(emp_1.email)\n",
    "print(emp_1.fullname())"
   ]
  },
  {
   "cell_type": "code",
   "execution_count": 154,
   "metadata": {},
   "outputs": [],
   "source": [
    "# Notice that the first name has changed to Jim but the email is not changed\n",
    "class Employee:\n",
    "    def __init__(self,first,last):\n",
    "        self.first=first\n",
    "        self.last=last\n",
    "        \n",
    "    def email(self):\n",
    "        return '{}.{}@company.com'.format(self.first,self.last)\n",
    "    \n",
    "    def fullname(self):\n",
    "        return '{} {}'.format(self.first,self.last)"
   ]
  },
  {
   "cell_type": "code",
   "execution_count": 156,
   "metadata": {},
   "outputs": [
    {
     "name": "stdout",
     "output_type": "stream",
     "text": [
      "Jim\n",
      "Jim.Doe@company.com\n",
      "Jim Doe\n"
     ]
    }
   ],
   "source": [
    "emp_1=Employee('John','Doe')\n",
    "emp_1.first='Jim'\n",
    "print(emp_1.first)\n",
    "print(emp_1.email()) # we have to call email() method instead of calling it as an attribute\n",
    "print(emp_1.fullname())"
   ]
  },
  {
   "cell_type": "code",
   "execution_count": 159,
   "metadata": {},
   "outputs": [],
   "source": [
    "# This can be fix by using property decorators\n",
    "class Employee:\n",
    "    def __init__(self,first,last):\n",
    "        self.first=first\n",
    "        self.last=last\n",
    "    @property        \n",
    "    def email(self):\n",
    "        return '{}.{}@company.com'.format(self.first,self.last)\n",
    "    \n",
    "    @property\n",
    "    def fullname(self):\n",
    "        return '{} {}'.format(self.first,self.last)"
   ]
  },
  {
   "cell_type": "code",
   "execution_count": 160,
   "metadata": {},
   "outputs": [
    {
     "name": "stdout",
     "output_type": "stream",
     "text": [
      "Jim\n",
      "Jim.Doe@company.com\n",
      "Jim Doe\n"
     ]
    }
   ],
   "source": [
    "emp_1=Employee('John','Doe')\n",
    "emp_1.first='Jim'\n",
    "print(emp_1.first)\n",
    "print(emp_1.email)\n",
    "print(emp_1.fullname)"
   ]
  },
  {
   "cell_type": "markdown",
   "metadata": {},
   "source": [
    "Now both email and fullname are callable as an attribute.\n",
    "<br>\n",
    "We can use .setter decorator to set values to class variables"
   ]
  },
  {
   "cell_type": "code",
   "execution_count": 182,
   "metadata": {},
   "outputs": [],
   "source": [
    "class Employee:\n",
    "    def __init__(self,first,last):\n",
    "        self.first=first\n",
    "        self.last=last\n",
    "    @property        \n",
    "    def email(self):\n",
    "        return '{}.{}@company.com'.format(self.first,self.last)\n",
    "    \n",
    "    @property\n",
    "    def fullname(self):\n",
    "        return '{} {}'.format(self.first,self.last)\n",
    "    @fullname.setter\n",
    "    def fullname(self,name):\n",
    "        first,last=name.split(' ')\n",
    "        self.first=first\n",
    "        self.last=last\n",
    "\n"
   ]
  },
  {
   "cell_type": "code",
   "execution_count": 184,
   "metadata": {},
   "outputs": [],
   "source": [
    "emp_1=Employee('John','Doe')\n",
    "emp_1.fullname='Ben Kueh'"
   ]
  },
  {
   "cell_type": "code",
   "execution_count": 186,
   "metadata": {},
   "outputs": [
    {
     "name": "stdout",
     "output_type": "stream",
     "text": [
      "Ben\n",
      "Kueh\n",
      "Ben.Kueh@company.com\n"
     ]
    }
   ],
   "source": [
    "print(emp_1.first)\n",
    "print(emp_1.last)\n",
    "print(emp_1.email)"
   ]
  },
  {
   "cell_type": "markdown",
   "metadata": {},
   "source": [
    "Notice that the first name, last name and email address has been changed according to the string that we passed to fullname.setter. <br>\n",
    "Now we want to try out with deleter to delete attribute. <br>"
   ]
  },
  {
   "cell_type": "code",
   "execution_count": 199,
   "metadata": {},
   "outputs": [],
   "source": [
    "class Employee:\n",
    "    def __init__(self,first,last):\n",
    "        self.first=first\n",
    "        self.last=last\n",
    "    @property        \n",
    "    def email(self):\n",
    "        return '{}.{}@company.com'.format(self.first,self.last)\n",
    "    \n",
    "    @property\n",
    "    def fullname(self):\n",
    "        return '{} {}'.format(self.first,self.last)\n",
    "    @fullname.setter\n",
    "    def fullname(self,name):\n",
    "        first,last=name.split(' ')\n",
    "        self.first=first\n",
    "        self.last=last\n",
    "        \n",
    "    @fullname.deleter\n",
    "    def fullname(self):\n",
    "        print('Delete Name!')\n",
    "        self.first=None\n",
    "        self.last=None\n"
   ]
  },
  {
   "cell_type": "code",
   "execution_count": 200,
   "metadata": {},
   "outputs": [
    {
     "name": "stdout",
     "output_type": "stream",
     "text": [
      "{'first': 'Ben', 'last': 'Kueh'}\n",
      "Delete Name!\n",
      "{'first': None, 'last': None}\n"
     ]
    }
   ],
   "source": [
    "emp_1=Employee('John','Doe')\n",
    "emp_1.fullname='Ben Kueh'\n",
    "print(emp_1.__dict__)\n",
    "del emp_1.fullname\n",
    "print(emp_1.__dict__)"
   ]
  },
  {
   "cell_type": "markdown",
   "metadata": {},
   "source": [
    "Now first name and last name has been deleted after running the deleter"
   ]
  },
  {
   "cell_type": "code",
   "execution_count": null,
   "metadata": {},
   "outputs": [],
   "source": []
  }
 ],
 "metadata": {
  "kernelspec": {
   "display_name": "Python 3",
   "language": "python",
   "name": "python3"
  },
  "language_info": {
   "codemirror_mode": {
    "name": "ipython",
    "version": 3
   },
   "file_extension": ".py",
   "mimetype": "text/x-python",
   "name": "python",
   "nbconvert_exporter": "python",
   "pygments_lexer": "ipython3",
   "version": "3.7.2"
  }
 },
 "nbformat": 4,
 "nbformat_minor": 2
}
